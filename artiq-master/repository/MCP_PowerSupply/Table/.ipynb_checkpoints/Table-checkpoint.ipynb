{
 "cells": [
  {
   "cell_type": "raw",
   "id": "a5866725-d580-4053-966c-c0a22822c88e",
   "metadata": {},
   "source": [
    "翻完筆記本37頁再來"
   ]
  },
  {
   "cell_type": "code",
   "execution_count": 1,
   "id": "f213c747-1fd8-4be3-bf72-0d289ea79c98",
   "metadata": {},
   "outputs": [],
   "source": [
    "# Common Import\n",
    "\n",
    "import numpy as np\n",
    "import matplotlib.pyplot as plt\n",
    "import pandas as pd\n",
    "from scipy.optimize import curve_fit\n",
    "\n",
    "Vout = pd.read_csv(\"RawData/20251008_160129_setpoints.csv\", header=None, names=['1'])     # header防止第一個數據變成name; names將行換成列\n",
    "Vout = Vout['1']\n",
    "\n",
    "Vin = pd.read_csv(\"RawData/20251008_160129_adjusted.csv\", header=None, sep=' ')           # 列與列用空格隔開，要用sep\n",
    "Sampler = pd.read_csv(\"RawData/20251008_160129_measured.csv\", header=None, sep=' ')  \n",
    "\n",
    "camera = pd.read_csv(\"RawData/camera_data.csv\")\n",
    "Vfront = camera['front_voltage']\n",
    "Vback = camera['back_voltage']\n",
    "Vanode = camera['anode_voltage']\n",
    "Vcamera = [Vfront, Vback, Vanode]\n",
    "\n",
    "# print(Vin[2])\n",
    "# print(Vout)\n",
    "# print (Vcamera[1])"
   ]
  },
  {
   "cell_type": "code",
   "execution_count": 2,
   "id": "32cce11a-0157-4db4-b7fd-ed40cd9612ef",
   "metadata": {},
   "outputs": [
    {
     "name": "stdout",
     "output_type": "stream",
     "text": [
      "[1.0074768749194492, 1.0074287202423378, 1.0072965136381065]\n",
      "[0.07756334844579864, 0.08322020347259261, 0.08263305942136191]\n"
     ]
    }
   ],
   "source": [
    "# Vin vs Vout\n",
    "\n",
    "# plt.plot(Vout, Vin[2])\n",
    "\n",
    "def model (x, k, b):\n",
    "        return k*x+b\n",
    "    \n",
    "V = []\n",
    "for i in range (0, 3):\n",
    "    Vin_i = Vin[i]\n",
    "    params, curve = curve_fit(model, Vout, Vin_i)\n",
    "    V.append(params)\n",
    "\n",
    "# print (V)\n",
    "\n",
    "# 改寫\n",
    "k = [p[0] for p in V]\n",
    "b = [p[1] for p in V]\n",
    "\n",
    "# print(V[0])\n",
    "print(k)\n",
    "print(b)"
   ]
  },
  {
   "cell_type": "code",
   "execution_count": 3,
   "id": "f6a1f1bc-dec6-45e4-af70-2b13cad5db1e",
   "metadata": {},
   "outputs": [
    {
     "name": "stdout",
     "output_type": "stream",
     "text": [
      "[0.970708805698407, 0.9703494051353837, 0.9701573590797017]\n",
      "[0.0025874580802114355, 0.0046712389827349154, 0.0016202879077453704]\n",
      "[array([0.97070881, 0.00258746]), array([0.97034941, 0.00467124]), array([0.97015736, 0.00162029])]\n"
     ]
    }
   ],
   "source": [
    "# Sampler vs Vout\n",
    "\n",
    "# plt.plot(Vout, Sampler[2])\n",
    "\n",
    "def model2 (x, k, b):\n",
    "    return k*x+b\n",
    "\n",
    "S = []\n",
    "for i in range (0,3):\n",
    "    Sampler_i = Sampler[i]\n",
    "    params, curve = curve_fit(model, Vout, Sampler_i)\n",
    "    S.append(params)\n",
    "\n",
    "k2 = [p[0] for p in S]\n",
    "b2 = [p[1] for p in S]\n",
    "\n",
    "print(k2)\n",
    "print(b2)\n",
    "\n",
    "# 製表\n",
    "print (S)"
   ]
  },
  {
   "cell_type": "code",
   "execution_count": 6,
   "id": "26cc033e-1b37-4d6b-ba0f-90a61033b94a",
   "metadata": {},
   "outputs": [
    {
     "name": "stdout",
     "output_type": "stream",
     "text": [
      "[array([497.57692354,   4.47563983]), array([497.16816357,   4.64305173]), array([496.47699648,   4.07720711])]\n",
      "[497.5769235429688, 497.16816357233944, 496.47699647528907]\n",
      "[4.475639829653019, 4.643051732668025, 4.07720711208674]\n"
     ]
    }
   ],
   "source": [
    "# Vcamera vs Vout\n",
    "\n",
    "# plt.plot(Vout, Vfront)\n",
    "\n",
    "def model3 (x, k, b):\n",
    "    return k*x+b\n",
    "\n",
    "# Vfront 數據的後20行全是N/A，要砍一下，不能放進for\n",
    "Vfront = Vfront[:39]\n",
    "Voutf = Vout[:39]\n",
    "HV = []\n",
    "params, curve = curve_fit(model3, Voutf, Vfront)\n",
    "HV.append(params)\n",
    "# print (Vfront)\n",
    "# print (HV)\n",
    "\n",
    "# 擴寫 HV \n",
    "for i in range (1,3):\n",
    "    Vcamera_i = Vcamera[i]\n",
    "    params, curve = curve_fit(model, Vout, Vcamera_i)\n",
    "    HV.append(params)\n",
    "\n",
    "k3 = [p[0] for p in HV]\n",
    "b3 = [p[1] for p in HV]\n",
    "\n",
    "print(HV)\n",
    "print(k3)\n",
    "print(b3)"
   ]
  },
  {
   "cell_type": "code",
   "execution_count": 10,
   "id": "be0a4256-ef43-493a-b8f4-13d0311abe96",
   "metadata": {},
   "outputs": [],
   "source": [
    "# 導出\n",
    "\n",
    "# 查看數據類型\n",
    "# print (type(HV))\n",
    "\n",
    "# 發現數據是python list:\n",
    "import csv\n",
    "\n",
    "with open(\"HighV.csv\", \"w\", newline=\"\") as f:\n",
    "    writer = csv.writer(f)\n",
    "    writer.writerows(HV)\n",
    "\n",
    "with open(\"Sampler.csv\", \"w\", newline=\"\") as f:\n",
    "    writer = csv.writer(f)\n",
    "    writer.writerows(S)"
   ]
  },
  {
   "cell_type": "code",
   "execution_count": null,
   "id": "4d375643-a32e-4346-a912-21c70eb1437a",
   "metadata": {},
   "outputs": [],
   "source": []
  }
 ],
 "metadata": {
  "kernelspec": {
   "display_name": "Python 3 (ipykernel)",
   "language": "python",
   "name": "python3"
  },
  "language_info": {
   "codemirror_mode": {
    "name": "ipython",
    "version": 3
   },
   "file_extension": ".py",
   "mimetype": "text/x-python",
   "name": "python",
   "nbconvert_exporter": "python",
   "pygments_lexer": "ipython3",
   "version": "3.12.4"
  }
 },
 "nbformat": 4,
 "nbformat_minor": 5
}
